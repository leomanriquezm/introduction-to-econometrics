{
  "nbformat": 4,
  "nbformat_minor": 0,
  "metadata": {
    "colab": {
      "provenance": []
    },
    "kernelspec": {
      "name": "python3",
      "display_name": "Python 3"
    },
    "language_info": {
      "name": "python"
    }
  },
  "cells": [
    {
      "cell_type": "code",
      "execution_count": null,
      "metadata": {
        "id": "Pyp3hFdBU9if"
      },
      "outputs": [],
      "source": []
    },
    {
      "cell_type": "markdown",
      "source": [
       "#Introducción\n",
        "by [Leonardo Manríquez M.](https://github.com/leomanriquezm)\n",
        "\n",
        "E-mail: leonardomanriquezmendez@gmail.com"
      ],
      "metadata": {
        "id": "XUyvq3yrVQWw"
      }
    },
    {
      "cell_type": "code",
      "source": [
        "import random\n",
        "# ¿Quién comienza?\n",
        "comienza = random.randint(0, 1)\n",
        "if comienza == 0:\n",
        "    print('Comienza el jugador')\n",
        "else:\n",
        "    print('Comienza el PC')\n",
        "# Número aleatorio del parchís\n",
        "numero = random.randint(1, 6)"
      ],
      "metadata": {
        "colab": {
          "base_uri": "https://localhost:8080/"
        },
        "id": "qBhhOT70WO50",
        "outputId": "587bb566-6605-4d05-fabe-4bff874acd7a"
      },
      "execution_count": 1,
      "outputs": [
        {
          "output_type": "stream",
          "name": "stdout",
          "text": [
            "Comienza el PC\n"
          ]
        }
      ]
    }
  ]
}
