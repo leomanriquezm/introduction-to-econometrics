{
  "nbformat": 4,
  "nbformat_minor": 0,
  "metadata": {
    "colab": {
      "provenance": []
    },
    "kernelspec": {
      "name": "python3",
      "display_name": "Python 3"
    },
    "language_info": {
      "name": "python"
    }
  },
  "cells": [
    {
      "cell_type": "markdown",
      "source": [
        "by [Leonardo Manríquez M](https://github.com/leomanriquezm)\n",
        "\n",
        "E-mail: leonardomanriquezmendez@gmail.com"
      ],
      "metadata": {
        "id": "WqVSJdaTyNBT"
      }
    },
    {
      "cell_type": "code",
      "execution_count": 49,
      "metadata": {
        "id": "3m66R3hCntOt"
      },
      "outputs": [],
      "source": [
        "import matplotlib.pyplot as plt\n",
        "import pandas as pd\n",
        "import numpy as np\n",
        "import statsmodels.api as sm\n",
        "from statsmodels.stats.diagnostic import het_white\n",
        "from statsmodels.stats.diagnostic import het_breuschpagan\n",
        "from statsmodels.compat import lzip\n",
        "\n",
        "file=\"https://raw.githubusercontent.com/leomanriquezm/introduction-to-econometrics/main/df_example.csv\"\n",
        "df=pd.read_table(file,delimiter = ',')"
      ]
    },
    {
      "cell_type": "markdown",
      "source": [
        "Supón que estamos interesados en estimar la siguiente función de regresión:\n",
        "\\\n",
        "\\begin{equation}\n",
        "Ventas_{i}=\\beta_{0}+\\beta_{1}\\cdot Descuento_{i} + \\beta_{2}\\cdot PrecioProducto_{i}+ \\beta_{3}\\cdot EdadClientes_{i}+\\mu_{i}.\n",
        "\\tag{1}\n",
        "\\end{equation}"
      ],
      "metadata": {
        "id": "9QxU683Dq1Vq"
      }
    },
    {
      "cell_type": "code",
      "source": [
        "# Ajustar el modelo de regresión lineal múltiple\n",
        "X = df[[\"Descuento\",\"PrecioProducto\",\"EdadClientes\"]]\n",
        "# Agregar columna de unos para el término constante\n",
        "X = sm.add_constant(X)\n",
        "y = df['Ventas']\n",
        "\n",
        "model = sm.OLS(y, X).fit()\n",
        "\n",
        "# Imprimir los resultados del modelo\n",
        "print(model.summary())"
      ],
      "metadata": {
        "colab": {
          "base_uri": "https://localhost:8080/"
        },
        "id": "12DFy38nnw8V",
        "outputId": "cadbdcce-8c14-45cc-a656-f669db36d310"
      },
      "execution_count": 44,
      "outputs": [
        {
          "output_type": "stream",
          "name": "stdout",
          "text": [
            "                            OLS Regression Results                            \n",
            "==============================================================================\n",
            "Dep. Variable:                 Ventas   R-squared:                       0.867\n",
            "Model:                            OLS   Adj. R-squared:                  0.863\n",
            "Method:                 Least Squares   F-statistic:                     208.9\n",
            "Date:                Sun, 20 Aug 2023   Prob (F-statistic):           6.15e-42\n",
            "Time:                        20:39:59   Log-Likelihood:                -622.69\n",
            "No. Observations:                 100   AIC:                             1253.\n",
            "Df Residuals:                      96   BIC:                             1264.\n",
            "Df Model:                           3                                         \n",
            "Covariance Type:            nonrobust                                         \n",
            "==================================================================================\n",
            "                     coef    std err          t      P>|t|      [0.025      0.975]\n",
            "----------------------------------------------------------------------------------\n",
            "const           1171.9559     51.742     22.650      0.000    1069.249    1274.663\n",
            "Descuento        178.4231    147.602      1.209      0.230    -114.565     471.411\n",
            "PrecioProducto     4.3689      0.529      8.265      0.000       3.320       5.418\n",
            "EdadClientes      19.9357      0.913     21.835      0.000      18.123      21.748\n",
            "==============================================================================\n",
            "Omnibus:                        1.200   Durbin-Watson:                   2.031\n",
            "Prob(Omnibus):                  0.549   Jarque-Bera (JB):                1.055\n",
            "Skew:                           0.005   Prob(JB):                        0.590\n",
            "Kurtosis:                       2.497   Cond. No.                         852.\n",
            "==============================================================================\n",
            "\n",
            "Notes:\n",
            "[1] Standard Errors assume that the covariance matrix of the errors is correctly specified.\n"
          ]
        }
      ]
    },
    {
      "cell_type": "markdown",
      "source": [
        "Sin embargo, como estamos trabajando con datos de corte transversal se sospecha la presencia de heterocedasticidad. Para explorar la existencia de este fenómeno se realizará la prueba de White, la cual tiene la siguiente hipótesis:\n",
        "\\begin{equation}\n",
        "\\begin{split}\n",
        "H_{0}&: \\sigma_{i}^{2}=\\sigma^{2}, \\\\\n",
        "H_{1}&: \\text{No se verifica que }\\sigma_{i}^{2}=\\sigma^{2}.\n",
        "\\end{split}\n",
        "\\end{equation}\n",
        "Notar que $H_{0}$ hace referencia a la igualdad de varianzas: todos los errores tienen la misma varianza."
      ],
      "metadata": {
        "id": "T4W1zHf3rqRU"
      }
    },
    {
      "cell_type": "code",
      "source": [
        "residuals = model.resid\n",
        "white_test = het_white(residuals, X)\n",
        "print(\"Estadístico de prueba:\", white_test[0])\n",
        "print(\"P-valor:\", white_test[1])"
      ],
      "metadata": {
        "colab": {
          "base_uri": "https://localhost:8080/"
        },
        "id": "1Ttyj1J_n7-K",
        "outputId": "a0cb1d3e-54a2-4d19-82d6-b37d8d949ed8"
      },
      "execution_count": 43,
      "outputs": [
        {
          "output_type": "stream",
          "name": "stdout",
          "text": [
            "Estadístico de prueba: 13.57300450474208\n",
            "P-valor: 0.13834556040394372\n"
          ]
        }
      ]
    },
    {
      "cell_type": "markdown",
      "source": [
        "Ahora, al considerar un valor de $\\alpha=0.05$ NO es posible rechazar $H_{0}$ debido a que $p-value>\\alpha$. Esto implica que la heterocedasticidad no es un problema en nuestro modelo según la prueba de White."
      ],
      "metadata": {
        "id": "ffPwS3fcso7e"
      }
    },
    {
      "cell_type": "code",
      "source": [
        "plt.scatter(model.fittedvalues, residuals)\n",
        "plt.xlabel(\"Valores Ajustados\")\n",
        "plt.ylabel(\"Residuos\")\n",
        "plt.title(\"Gráfico de Residuos vs. Valores Ajustados por el Modelo\")\n",
        "plt.show()"
      ],
      "metadata": {
        "colab": {
          "base_uri": "https://localhost:8080/",
          "height": 472
        },
        "id": "DraSJ_o4oDW6",
        "outputId": "94f98574-2100-4f75-e489-be7034b4ff43"
      },
      "execution_count": 40,
      "outputs": [
        {
          "output_type": "display_data",
          "data": {
            "text/plain": [
              "<Figure size 640x480 with 1 Axes>"
            ],
            "image/png": "[encoded data removed]"
          },
          "metadata": {}
        }
      ]
    },
    {
      "cell_type": "markdown",
      "source": [
        "Sin embargo, por la naturaleza de los datos. Se realiza la misma estimación en (1) pero considerando la matriz de varianzas y covarianzas consistente con heterocedasticidad."
      ],
      "metadata": {
        "id": "gyXyWBqptTwy"
      }
    },
    {
      "cell_type": "code",
      "source": [
        "# Ajustar el modelo de regresión lineal múltiple considerando matriz de varianzas y covarianzas robusta\n",
        "model = sm.OLS(y, X).fit(cov_type='HC0')\n",
        "# Imprimir los resultados del modelo\n",
        "print(model.summary())"
      ],
      "metadata": {
        "colab": {
          "base_uri": "https://localhost:8080/"
        },
        "id": "w6-6WUWTohFE",
        "outputId": "8c469666-d02e-427c-f6bf-f5bbad709771"
      },
      "execution_count": 41,
      "outputs": [
        {
          "output_type": "stream",
          "name": "stdout",
          "text": [
            "                            OLS Regression Results                            \n",
            "==============================================================================\n",
            "Dep. Variable:                 Ventas   R-squared:                       0.867\n",
            "Model:                            OLS   Adj. R-squared:                  0.863\n",
            "Method:                 Least Squares   F-statistic:                     216.9\n",
            "Date:                Sun, 20 Aug 2023   Prob (F-statistic):           1.27e-42\n",
            "Time:                        20:37:14   Log-Likelihood:                -622.69\n",
            "No. Observations:                 100   AIC:                             1253.\n",
            "Df Residuals:                      96   BIC:                             1264.\n",
            "Df Model:                           3                                         \n",
            "Covariance Type:                  HC0                                         \n",
            "==================================================================================\n",
            "                     coef    std err          z      P>|z|      [0.025      0.975]\n",
            "----------------------------------------------------------------------------------\n",
            "const           1171.9559     51.717     22.661      0.000    1070.593    1273.318\n",
            "Descuento        178.4231    155.227      1.149      0.250    -125.816     482.663\n",
            "PrecioProducto     4.3689      0.540      8.092      0.000       3.311       5.427\n",
            "EdadClientes      19.9357      0.900     22.157      0.000      18.172      21.699\n",
            "==============================================================================\n",
            "Omnibus:                        1.200   Durbin-Watson:                   2.031\n",
            "Prob(Omnibus):                  0.549   Jarque-Bera (JB):                1.055\n",
            "Skew:                           0.005   Prob(JB):                        0.590\n",
            "Kurtosis:                       2.497   Cond. No.                         852.\n",
            "==============================================================================\n",
            "\n",
            "Notes:\n",
            "[1] Standard Errors are heteroscedasticity robust (HC0)\n"
          ]
        }
      ]
    },
    {
      "cell_type": "code",
      "source": [
        "name = ['Lagrange multiplier statistic', 'p-value',\n",
        "        'f-value', 'f p-value']\n",
        "breusch_pagan_test = het_breuschpagan(model.resid, X)\n",
        "print(lzip(name, breusch_pagan_test))"
      ],
      "metadata": {
        "colab": {
          "base_uri": "https://localhost:8080/"
        },
        "id": "JykyMOYZxoS0",
        "outputId": "09c94575-e1ac-4b67-f135-59e87cbf85d3"
      },
      "execution_count": 50,
      "outputs": [
        {
          "output_type": "stream",
          "name": "stdout",
          "text": [
            "[('Lagrange multiplier statistic', 7.757196648201448), ('p-value', 0.05130551154105414), ('f-value', 2.691053217406432), ('f p-value', 0.05052235911693393)]\n"
          ]
        }
      ]
    },
    {
      "cell_type": "markdown",
      "source": [
        "Notar que este resultado, difiere con el resultado anterior en las siguientes columnas: error estándar, estadístico, valor-p e intervalo de confianza. Esto tiene sentido debido a que las matriz que estamos considerando cambia el valor de los errores estándar, los cuales se utilizan para encontrar: estadístico, valor-p e intervalo de confinza. Notar también que el valor del coeficiente NO cambia.\\\n",
        "En presencia de datos de corte transversal, utilizaremos la información de la matriz robusta para realizar inferencia."
      ],
      "metadata": {
        "id": "_TTcaljAtgMl"
      }
    }
  ]
}