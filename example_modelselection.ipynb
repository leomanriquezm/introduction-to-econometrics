{
  "nbformat": 4,
  "nbformat_minor": 0,
  "metadata": {
    "colab": {
      "provenance": []
    },
    "kernelspec": {
      "name": "python3",
      "display_name": "Python 3"
    },
    "language_info": {
      "name": "python"
    }
  },
  "cells": [
    {
      "cell_type": "markdown",
      "source": [
        "by [Leonardo Manríquez M](https://github.com/leomanriquezm)\n",
        "\n",
        "E-mail: leonardomanriquezmendez@gmail.com"
      ],
      "metadata": {
        "id": "rpIwBrIR7A57"
      }
    },
    {
      "cell_type": "markdown",
      "source": [
        "# Criterios de selección de modelos\n",
        "\n",
        "Para los siguientes ejemplos utilizaremos el siguiente conjunto de datos."
      ],
      "metadata": {
        "id": "8OLEg5qR7EzC"
      }
    },
    {
      "cell_type": "code",
      "execution_count": null,
      "metadata": {
        "id": "NWzn5Qfc7AQG"
      },
      "outputs": [],
      "source": [
        "import matplotlib.pyplot as plt\n",
        "import pandas as pd\n",
        "import numpy as np\n",
        "import statsmodels.api as sm\n",
        "from sklearn.metrics import mean_squared_error\n",
        "from math import sqrt\n",
        "from sklearn.metrics import mean_absolute_error\n",
        "\n",
        "file=\"https://raw.githubusercontent.com/leomanriquezm/introduction-to-econometrics/main/df_example.csv\"\n",
        "df=pd.read_table(file,delimiter = ',')"
      ]
    },
    {
      "cell_type": "markdown",
      "source": [
        "En un caso sencillo, supongamos que estamos interesados en estimar las siguientes dos regresiones y \"seleccionar\" la mejor.\n",
        "\\begin{equation}\n",
        "\\tag{1}\n",
        "ventas_{i}=\\beta_{0}+\\beta_{1}\\cdot EdadClientes_{i}+ \\mu_{i}.\n",
        "\\end{equation}\n",
        "\\begin{equation}\n",
        "\\tag{2}\n",
        "ventas_{i}=\\beta_{0}+\\beta_{1}\\cdot EdadClientes_{i}+ \\beta_{2}\\cdot PrecioProducto_{i}+\\mu_{i}.\n",
        "\\end{equation}"
      ],
      "metadata": {
        "id": "thjLGTkT7PTZ"
      }
    },
    {
      "cell_type": "code",
      "source": [
        "# Ajustar el modelo de regresión lineal para (1)\n",
        "X1 = sm.add_constant(df[[\"EdadClientes\"]])\n",
        "y = df['Ventas']\n",
        "model1 = sm.OLS(y, X1).fit()\n",
        "# Imprimir los resultados del modelo\n",
        "print(model1.summary())"
      ],
      "metadata": {
        "colab": {
          "base_uri": "https://localhost:8080/"
        },
        "id": "GWKjs4SU8Q72",
        "outputId": "92df3909-bda8-4c83-d306-decb3b0a94f2"
      },
      "execution_count": null,
      "outputs": [
        {
          "output_type": "stream",
          "name": "stdout",
          "text": [
            "                            OLS Regression Results                            \n",
            "==============================================================================\n",
            "Dep. Variable:                 Ventas   R-squared:                       0.773\n",
            "Model:                            OLS   Adj. R-squared:                  0.770\n",
            "Method:                 Least Squares   F-statistic:                     332.9\n",
            "Date:                Tue, 08 Aug 2023   Prob (F-statistic):           2.80e-33\n",
            "Time:                        02:36:54   Log-Likelihood:                -649.57\n",
            "No. Observations:                 100   AIC:                             1303.\n",
            "Df Residuals:                      98   BIC:                             1308.\n",
            "Df Model:                           1                                         \n",
            "Covariance Type:            nonrobust                                         \n",
            "================================================================================\n",
            "                   coef    std err          t      P>|t|      [0.025      0.975]\n",
            "--------------------------------------------------------------------------------\n",
            "const         1377.6260     50.220     27.432      0.000    1277.965    1477.287\n",
            "EdadClientes    21.2165      1.163     18.244      0.000      18.909      23.524\n",
            "==============================================================================\n",
            "Omnibus:                        0.100   Durbin-Watson:                   1.846\n",
            "Prob(Omnibus):                  0.951   Jarque-Bera (JB):                0.155\n",
            "Skew:                           0.073   Prob(JB):                        0.925\n",
            "Kurtosis:                       2.872   Cond. No.                         134.\n",
            "==============================================================================\n",
            "\n",
            "Notes:\n",
            "[1] Standard Errors assume that the covariance matrix of the errors is correctly specified.\n"
          ]
        }
      ]
    },
    {
      "cell_type": "code",
      "source": [
        "# Ajustar el modelo de regresión lineal para (1)\n",
        "X2 = sm.add_constant(df[[\"EdadClientes\",\"PrecioProducto\"]])\n",
        "model2 = sm.OLS(y, X2).fit()\n",
        "# Imprimir los resultados del modelo\n",
        "print(model2.summary())"
      ],
      "metadata": {
        "colab": {
          "base_uri": "https://localhost:8080/"
        },
        "id": "9xM1otem8kqQ",
        "outputId": "86820f6d-28f3-44ab-81c3-e45cd1cc4f19"
      },
      "execution_count": null,
      "outputs": [
        {
          "output_type": "stream",
          "name": "stdout",
          "text": [
            "                            OLS Regression Results                            \n",
            "==============================================================================\n",
            "Dep. Variable:                 Ventas   R-squared:                       0.865\n",
            "Model:                            OLS   Adj. R-squared:                  0.862\n",
            "Method:                 Least Squares   F-statistic:                     311.1\n",
            "Date:                Tue, 08 Aug 2023   Prob (F-statistic):           6.35e-43\n",
            "Time:                        02:36:56   Log-Likelihood:                -623.44\n",
            "No. Observations:                 100   AIC:                             1253.\n",
            "Df Residuals:                      97   BIC:                             1261.\n",
            "Df Model:                           2                                         \n",
            "Covariance Type:            nonrobust                                         \n",
            "==================================================================================\n",
            "                     coef    std err          t      P>|t|      [0.025      0.975]\n",
            "----------------------------------------------------------------------------------\n",
            "const           1204.5106     44.286     27.199      0.000    1116.616    1292.405\n",
            "EdadClientes      19.8955      0.915     21.754      0.000      18.080      21.711\n",
            "PrecioProducto     4.2599      0.522      8.159      0.000       3.224       5.296\n",
            "==============================================================================\n",
            "Omnibus:                        0.877   Durbin-Watson:                   2.031\n",
            "Prob(Omnibus):                  0.645   Jarque-Bera (JB):                0.951\n",
            "Skew:                           0.126   Prob(JB):                        0.622\n",
            "Kurtosis:                       2.594   Cond. No.                         251.\n",
            "==============================================================================\n",
            "\n",
            "Notes:\n",
            "[1] Standard Errors assume that the covariance matrix of the errors is correctly specified.\n"
          ]
        }
      ]
    },
    {
      "cell_type": "code",
      "source": [
        "model_results = {\n",
        "    'Modelo 1': {\n",
        "        'R2 ajustado': model1.rsquared_adj,\n",
        "        'AIC': model1.aic,\n",
        "        'BIC': model1.bic,\n",
        "        'MSE': mean_squared_error(df[\"Ventas\"], model1.fittedvalues),\n",
        "        'RMSE': sqrt(mean_squared_error(df[\"Ventas\"], model1.fittedvalues)),\n",
        "        'MAE': mean_absolute_error(df[\"Ventas\"], model1.fittedvalues),\n",
        "        'MAPE':np.mean(np.abs((df[\"Ventas\"] - model1.fittedvalues) / df[\"Ventas\"])) * 100\n",
        "    },\n",
        "    'Modelo 2': {\n",
        "        'R2 ajustado': model2.rsquared_adj,\n",
        "        'AIC': model2.aic,\n",
        "        'BIC': model2.bic,\n",
        "        'MSE': mean_squared_error(df[\"Ventas\"], model2.fittedvalues),\n",
        "        'RMSE': sqrt(mean_squared_error(df[\"Ventas\"], model2.fittedvalues)),\n",
        "        'MAE': mean_absolute_error(df[\"Ventas\"], model2.fittedvalues),\n",
        "        'MAPE':np.mean(np.abs((df[\"Ventas\"] - model2.fittedvalues) / df[\"Ventas\"])) * 100\n",
        "    }\n",
        "}\n",
        "\n",
        "# Convertir el diccionario en un DataFrame de pandas\n",
        "df = pd.DataFrame(model_results)\n",
        "\n",
        "# Mostrar el DataFrame\n",
        "print(df)"
      ],
      "metadata": {
        "colab": {
          "base_uri": "https://localhost:8080/"
        },
        "id": "pPPicjzB8uU-",
        "outputId": "62b670e0-c552-4194-dfee-261840190af6"
      },
      "execution_count": null,
      "outputs": [
        {
          "output_type": "stream",
          "name": "stdout",
          "text": [
            "                 Modelo 1      Modelo 2\n",
            "R2 ajustado      0.770226      0.862337\n",
            "AIC           1303.144378   1252.889791\n",
            "BIC           1308.354719   1260.705302\n",
            "MSE          25682.541379  15229.975603\n",
            "RMSE           160.257734    123.409787\n",
            "MAE            128.597147    100.600295\n",
            "MAPE             5.910123      4.599068\n"
          ]
        }
      ]
    },
    {
      "cell_type": "markdown",
      "source": [
        "Recordemos que oportunidades anteriores sólo hemos seleccionado un modelo según el criterio $\\bar{R}^{2}$. Sin embargo, como hemos revisado existen otros criterios que nos permiten tomar una decisión de selección de modelo más informada.\n",
        "\n",
        "Recordemos que $AIC$ y $BIC$ son criterios que se basan en el ajuste y complejidad del modelo, y estamos interesados en valores más pequeños. Por lo tanto, para este caso, tanto por $AIC$ como $BIC$ seleccionaremos el modelo 2.\n",
        "\n",
        "Los criterios $MSE$ es el promedio de los errores al cuadrado entres las observaciones reales y las pronósticas por el modelo, y $RMSE$ corresponde a la $\\sqrt{}$ del $MSE$. En ambos casos, buscamos valores más pequeños. Por lo tanto, para este caso, por $MSE$ y $RMSE$ seleccionaremos el modelo 2.\n",
        "\n",
        "El $MAE$ es el promedio de las diferencias absolutas entre los pronósticos del modelo y las observaciones reales, y $MAPE$ es el promedio de los valores absolutos de los errores relativos (porcentuales) entre los pronósticos y las observaciones reales. En ambos casos, buscamos valores más pequeños. Por lo tanto, para este caso, por $MAE$ y $MAPE$ seleccionaremos el modelo 2.\n",
        "\n",
        "Notar que este ejemplo es relativamente sencillo seleccionar el modelo 2 porque en todos los criterios es mejor en comparación al modelo 1. Sin embargo, en escenarios más realistas esto no siempre es así, es decir, las decisiones de cada criterios pueden llegar a ser diferentes. Estos casos los revisaremos en clases."
      ],
      "metadata": {
        "id": "Cssa_ADFAZTC"
      }
    }
  ]
}