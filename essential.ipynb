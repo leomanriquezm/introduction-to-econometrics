{
  "nbformat": 4,
  "nbformat_minor": 0,
  "metadata": {
    "colab": {
      "provenance": []
    },
    "kernelspec": {
      "name": "python3",
      "display_name": "Python 3"
    },
    "language_info": {
      "name": "python"
    }
  },
  "cells": [
    {
      "cell_type": "code",
      "execution_count": null,
      "metadata": {
        "id": "NQY8ELYV3k4A"
      },
      "outputs": [],
      "source": []
    },
    {
      "cell_type": "markdown",
      "source": [
        "#NumPy\n",
        "\n",
        "##Tipos de datos"
      ],
      "metadata": {
        "id": "yjomFTYv35Dt"
      }
    },
    {
      "cell_type": "code",
      "source": [
        "import numpy as np\n",
        "\n",
        "#generando un vector de 7 elementos\n",
        "a=np.array([1,2,3,4,5,6,7])\n",
        "a\n",
        "type(a) #clase del vector\n",
        "a.dtype"
      ],
      "metadata": {
        "colab": {
          "base_uri": "https://localhost:8080/"
        },
        "id": "H7i0RxkI369T",
        "outputId": "b3c15a0e-df7f-4ae5-8f9d-a0b22dea6631"
      },
      "execution_count": 20,
      "outputs": [
        {
          "output_type": "execute_result",
          "data": {
            "text/plain": [
              "dtype('int64')"
            ]
          },
          "metadata": {},
          "execution_count": 20
        }
      ]
    },
    {
      "cell_type": "code",
      "source": [
        "#generando una matriz de 2 filas y 7 columnas\n",
        "b=np.array([[1,2,3,4,5,6,7],\n",
        "            [1,2,3,4,5,6,7]])\n",
        "b\n",
        "b.size #número de elementos de b\n",
        "b.shape #orden de b"
      ],
      "metadata": {
        "colab": {
          "base_uri": "https://localhost:8080/"
        },
        "id": "7-_rP3Ci6cbL",
        "outputId": "2deb19af-e65a-44d7-88e1-a43141ed836a"
      },
      "execution_count": 21,
      "outputs": [
        {
          "output_type": "execute_result",
          "data": {
            "text/plain": [
              "(2, 7)"
            ]
          },
          "metadata": {},
          "execution_count": 21
        }
      ]
    },
    {
      "cell_type": "code",
      "source": [
        "#generando un vector con letras (string)\n",
        "c=np.array([\"hello\",\"bye\",\"hello\",\"bye\"])\n",
        "c.dtype.name"
      ],
      "metadata": {
        "colab": {
          "base_uri": "https://localhost:8080/",
          "height": 35
        },
        "id": "TZoWzc6h6clh",
        "outputId": "4878063a-2f3b-4b0b-eab8-c94c19f55d41"
      },
      "execution_count": 22,
      "outputs": [
        {
          "output_type": "execute_result",
          "data": {
            "text/plain": [
              "'str160'"
            ],
            "application/vnd.google.colaboratory.intrinsic+json": {
              "type": "string"
            }
          },
          "metadata": {},
          "execution_count": 22
        }
      ]
    },
    {
      "cell_type": "markdown",
      "source": [
        "##Generando array"
      ],
      "metadata": {
        "id": "Nl4n3rHl6lcd"
      }
    },
    {
      "cell_type": "code",
      "source": [
        "#un vector con ceros con shape (3,5)\n",
        "np.zeros((3,5))"
      ],
      "metadata": {
        "colab": {
          "base_uri": "https://localhost:8080/"
        },
        "id": "8daA1x7u6xdQ",
        "outputId": "c36e92dc-357e-4b7e-b151-169a316417b3"
      },
      "execution_count": 32,
      "outputs": [
        {
          "output_type": "execute_result",
          "data": {
            "text/plain": [
              "array([[0., 0., 0., 0., 0., 0., 0.],\n",
              "       [0., 0., 0., 0., 0., 0., 0.],\n",
              "       [0., 0., 0., 0., 0., 0., 0.]])"
            ]
          },
          "metadata": {},
          "execution_count": 32
        }
      ]
    },
    {
      "cell_type": "code",
      "source": [
        "#un vector con número aleatorios con shape (3,5)\n",
        "np.random.random((3,5))"
      ],
      "metadata": {
        "colab": {
          "base_uri": "https://localhost:8080/"
        },
        "id": "R7hLre4V7B4S",
        "outputId": "0a689ecd-4e68-4665-fefb-18d6deaa90ab"
      },
      "execution_count": 34,
      "outputs": [
        {
          "output_type": "execute_result",
          "data": {
            "text/plain": [
              "array([[0.53480589, 0.75186789, 0.92252899, 0.92425089, 0.15393556],\n",
              "       [0.66561628, 0.25010831, 0.006081  , 0.83886327, 0.43465576],\n",
              "       [0.38612291, 0.79120251, 0.98170928, 0.87531101, 0.93251246]])"
            ]
          },
          "metadata": {},
          "execution_count": 34
        }
      ]
    },
    {
      "cell_type": "code",
      "source": [
        "#un vector con elementos de 0 a 10 con saltos de 1\n",
        "np.arange(0,10,1)"
      ],
      "metadata": {
        "colab": {
          "base_uri": "https://localhost:8080/"
        },
        "id": "m3HaMdl47Oge",
        "outputId": "45e2e34e-4893-4a10-9292-13c227c154aa"
      },
      "execution_count": 35,
      "outputs": [
        {
          "output_type": "execute_result",
          "data": {
            "text/plain": [
              "array([0, 1, 2, 3, 4, 5, 6, 7, 8, 9])"
            ]
          },
          "metadata": {},
          "execution_count": 35
        }
      ]
    },
    {
      "cell_type": "code",
      "source": [
        "#un vector con 7 elementos del 1 al 10\n",
        "np.linspace(1,10,7)"
      ],
      "metadata": {
        "colab": {
          "base_uri": "https://localhost:8080/"
        },
        "id": "Mm04TTVC78VS",
        "outputId": "9b0f67a6-e8d3-4735-9d94-ba448b642db9"
      },
      "execution_count": 38,
      "outputs": [
        {
          "output_type": "execute_result",
          "data": {
            "text/plain": [
              "array([ 1. ,  2.5,  4. ,  5.5,  7. ,  8.5, 10. ])"
            ]
          },
          "metadata": {},
          "execution_count": 38
        }
      ]
    },
    {
      "cell_type": "markdown",
      "source": [
        "##Operador de incremento"
      ],
      "metadata": {
        "id": "6Umt9W8e8VgR"
      }
    },
    {
      "cell_type": "code",
      "source": [
        "#vector de 7 elementos\n",
        "a=np.arange(7)\n",
        "#adición\n",
        "#a cada elemento del vector se le suma 1\n",
        "a=a+1\n",
        "a"
      ],
      "metadata": {
        "colab": {
          "base_uri": "https://localhost:8080/"
        },
        "id": "NmjJa6T08X5Y",
        "outputId": "26c59fbb-f12d-4299-b1f4-a5244354a45a"
      },
      "execution_count": 44,
      "outputs": [
        {
          "output_type": "execute_result",
          "data": {
            "text/plain": [
              "array([1, 2, 3, 4, 5, 6, 7])"
            ]
          },
          "metadata": {},
          "execution_count": 44
        }
      ]
    },
    {
      "cell_type": "code",
      "source": [
        "#adición\n",
        "a=np.arange(7)\n",
        "#a cada elemento del vector se le suma 1\n",
        "a+=1\n",
        "a"
      ],
      "metadata": {
        "colab": {
          "base_uri": "https://localhost:8080/"
        },
        "id": "KZOQNSAm8YDN",
        "outputId": "1602419b-478b-4ceb-bcdc-ff363af36a55"
      },
      "execution_count": 45,
      "outputs": [
        {
          "output_type": "execute_result",
          "data": {
            "text/plain": [
              "array([1, 2, 3, 4, 5, 6, 7])"
            ]
          },
          "metadata": {},
          "execution_count": 45
        }
      ]
    },
    {
      "cell_type": "code",
      "source": [
        "#sustracción\n",
        "a=np.arange(7)\n",
        "#a cada elemento del vector se le suma 1\n",
        "a-=1\n",
        "a"
      ],
      "metadata": {
        "colab": {
          "base_uri": "https://localhost:8080/"
        },
        "id": "TPlNn-rA8YIA",
        "outputId": "7af2cc72-e824-4d2b-8f49-b5f5472bbd8f"
      },
      "execution_count": 46,
      "outputs": [
        {
          "output_type": "execute_result",
          "data": {
            "text/plain": [
              "array([-1,  0,  1,  2,  3,  4,  5])"
            ]
          },
          "metadata": {},
          "execution_count": 46
        }
      ]
    },
    {
      "cell_type": "code",
      "source": [
        "#multiplicación\n",
        "a=np.arange(7)\n",
        "#a cada elemento del vector se le suma 1\n",
        "a*=2\n",
        "a"
      ],
      "metadata": {
        "colab": {
          "base_uri": "https://localhost:8080/"
        },
        "id": "RywSHFy39RqO",
        "outputId": "7f9ea184-69eb-46f4-bf85-9ef4408d75eb"
      },
      "execution_count": 47,
      "outputs": [
        {
          "output_type": "execute_result",
          "data": {
            "text/plain": [
              "array([ 0,  2,  4,  6,  8, 10, 12])"
            ]
          },
          "metadata": {},
          "execution_count": 47
        }
      ]
    },
    {
      "cell_type": "markdown",
      "source": [
        "##Promedio y desviación estándar"
      ],
      "metadata": {
        "id": "pR-jDseX9bzF"
      }
    }
  ]
}